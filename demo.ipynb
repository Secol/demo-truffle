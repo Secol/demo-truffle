{
 "cells": [
  {
   "cell_type": "code",
   "execution_count": null,
   "metadata": {},
   "outputs": [],
   "source": [
    "from web3 import Web3\n",
    "\n",
    "# Conectar ao provedor Ethereum\n",
    "web3 = Web3(Web3.HTTPProvider(\"HTTP://127.0.0.1:7545\"))"
   ]
  },
  {
   "cell_type": "code",
   "execution_count": null,
   "metadata": {},
   "outputs": [],
   "source": [
    "# Endereço da conta na rede (substitua pelo seu)\n",
    "account_address = \"0xd8E206FaB171766289a7BF49Bf1e99F85366B1DB\"\n",
    "# Chave privada da conta na rede (substitua pela sua)\n",
    "private_key = \"0x7613222e77dbe6b4408c846cc72c4404bfc11d192292765391c4b5d1fea15b97\"\n",
    "# Endereço do contrato Storage (substitua pelo seu)\n",
    "contract_address = \"0xEae292d76D9d764F61802aF0f0c40902689C97C6\"\n",
    "# ABI do contrato Storage\n",
    "contract_abi = [\n",
    "    {\n",
    "      \"inputs\": [],\n",
    "      \"name\": \"name\",\n",
    "      \"outputs\": [\n",
    "        {\n",
    "          \"internalType\": \"string\",\n",
    "          \"name\": \"\",\n",
    "          \"type\": \"string\"\n",
    "        }\n",
    "      ],\n",
    "      \"stateMutability\": \"view\",\n",
    "      \"type\": \"function\",\n",
    "      \"constant\": True\n",
    "    },\n",
    "    {\n",
    "      \"inputs\": [\n",
    "        {\n",
    "          \"internalType\": \"string\",\n",
    "          \"name\": \"_name\",\n",
    "          \"type\": \"string\"\n",
    "        }\n",
    "      ],\n",
    "      \"name\": \"setName\",\n",
    "      \"outputs\": [],\n",
    "      \"stateMutability\": \"nonpayable\",\n",
    "      \"type\": \"function\"\n",
    "    }\n",
    "]"
   ]
  },
  {
   "cell_type": "code",
   "execution_count": null,
   "metadata": {},
   "outputs": [],
   "source": [
    "# Cria um objeto contract para interagir com o contrato Storage\n",
    "contract = web3.eth.contract(address=contract_address, abi=contract_abi)"
   ]
  },
  {
   "cell_type": "code",
   "execution_count": null,
   "metadata": {},
   "outputs": [],
   "source": [
    "# Define uma função auxiliar para efetuar uma transação que altera o nome\n",
    "# armazenado no contrato Storage\n",
    "def set_name(new_name):\n",
    "    # Preparar a transação\n",
    "    txn = contract.functions.setName(new_name).build_transaction({\n",
    "        'chainId': web3.eth.chain_id,\n",
    "        'gas': 2000000,\n",
    "        'gasPrice': web3.to_wei('50', 'gwei'),\n",
    "        'nonce': web3.eth.get_transaction_count(Web3.to_checksum_address(account_address)),\n",
    "    })\n",
    "\n",
    "    # Assina a transação\n",
    "    signed_txn = web3.eth.account.sign_transaction(txn, private_key=private_key)\n",
    "    # Envia a transação\n",
    "    tx_hash = web3.eth.send_raw_transaction(signed_txn.rawTransaction)\n",
    "\n",
    "    # Aguarda a confirmação da transação\n",
    "    tx_receipt = web3.eth.wait_for_transaction_receipt(tx_hash)\n",
    "\n",
    "    # Retorna o corpo de resposta da transação\n",
    "    return tx_receipt"
   ]
  },
  {
   "cell_type": "code",
   "execution_count": null,
   "metadata": {},
   "outputs": [],
   "source": [
    "# Invoca o contrato para obter o nome armazenado\n",
    "contract.functions.name().call()"
   ]
  },
  {
   "cell_type": "code",
   "execution_count": null,
   "metadata": {},
   "outputs": [],
   "source": [
    "# Utiliza a função auxiliar para alterar o nome armazenado no contrato\n",
    "set_name('Olá Mundo!')"
   ]
  },
  {
   "cell_type": "code",
   "execution_count": null,
   "metadata": {},
   "outputs": [],
   "source": [
    "# Invoca o contrato para obter o nome armazenado\n",
    "contract.functions.name().call()"
   ]
  },
  {
   "cell_type": "code",
   "execution_count": null,
   "metadata": {},
   "outputs": [],
   "source": []
  }
 ],
 "metadata": {
  "kernelspec": {
   "display_name": "env",
   "language": "python",
   "name": "python3"
  },
  "language_info": {
   "codemirror_mode": {
    "name": "ipython",
    "version": 3
   },
   "file_extension": ".py",
   "mimetype": "text/x-python",
   "name": "python",
   "nbconvert_exporter": "python",
   "pygments_lexer": "ipython3",
   "version": "3.12.2"
  }
 },
 "nbformat": 4,
 "nbformat_minor": 2
}
