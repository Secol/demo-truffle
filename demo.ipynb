{
 "cells": [
  {
   "cell_type": "code",
   "execution_count": 35,
   "metadata": {},
   "outputs": [],
   "source": [
    "from web3 import Web3\n",
    "\n",
    "# Conectar ao provedor Ethereum\n",
    "web3 = Web3(Web3.HTTPProvider(\"http://127.0.0.1:7545\"))"
   ]
  },
  {
   "cell_type": "code",
   "execution_count": 37,
   "metadata": {},
   "outputs": [],
   "source": [
    "# Endereço da conta na rede (substitua pelo seu)\n",
    "account_address = \"0x82279a72C44A0C8930085b1Ad4AFb680Fc7c774B\"\n",
    "# Chave privada da conta na rede (substitua pela sua)\n",
    "private_key = \"0xe26ae878a8f73fdc3ca56d5e531df0827f64954fcb5298678042257ebb10aef8\"\n",
    "# Endereço do contrato Storage (substitua pelo seu)\n",
    "contract_address = \"0xbdB4ad8084889236177B78092CF9BB23eD5Bd7a0\"\n",
    "# ABI do contrato Storage\n",
    "contract_abi = [\n",
    "    {\n",
    "      \"inputs\": [],\n",
    "      \"name\": \"name\",\n",
    "      \"outputs\": [\n",
    "        {\n",
    "          \"internalType\": \"string\",\n",
    "          \"name\": \"\",\n",
    "          \"type\": \"string\"\n",
    "        }\n",
    "      ],\n",
    "      \"stateMutability\": \"view\",\n",
    "      \"type\": \"function\",\n",
    "      \"constant\": True\n",
    "    },\n",
    "    {\n",
    "      \"inputs\": [\n",
    "        {\n",
    "          \"internalType\": \"string\",\n",
    "          \"name\": \"_name\",\n",
    "          \"type\": \"string\"\n",
    "        }\n",
    "      ],\n",
    "      \"name\": \"setName\",\n",
    "      \"outputs\": [],\n",
    "      \"stateMutability\": \"nonpayable\",\n",
    "      \"type\": \"function\"\n",
    "    }\n",
    "]"
   ]
  },
  {
   "cell_type": "code",
   "execution_count": 38,
   "metadata": {},
   "outputs": [],
   "source": [
    "# Cria um objeto contract para interagir com o contrato Storage\n",
    "contract = web3.eth.contract(address=contract_address, abi=contract_abi)"
   ]
  },
  {
   "cell_type": "code",
   "execution_count": 63,
   "metadata": {},
   "outputs": [],
   "source": [
    "# Define uma função auxiliar para efetuar uma transação que altera o nome\n",
    "# armazenado no contrato Storage\n",
    "def set_name(new_name):\n",
    "    # Preparar a transação\n",
    "    txn = contract.functions.setName(new_name).build_transaction({\n",
    "        'chainId': web3.eth.chain_id,\n",
    "        'nonce': web3.eth.get_transaction_count(Web3.to_checksum_address(account_address)),\n",
    "    })\n",
    "\n",
    "    # Assina a transação\n",
    "    signed_txn = web3.eth.account.sign_transaction(txn, private_key=private_key)\n",
    "    # Envia a transação\n",
    "    tx_hash = web3.eth.send_raw_transaction(signed_txn.raw_transaction)\n",
    "\n",
    "    # Aguarda a confirmação da transação\n",
    "    tx_receipt = web3.eth.wait_for_transaction_receipt(tx_hash)\n",
    "\n",
    "    # Retorna o corpo de resposta da transação\n",
    "    return tx_receipt"
   ]
  },
  {
   "cell_type": "code",
   "execution_count": 64,
   "metadata": {},
   "outputs": [
    {
     "data": {
      "text/plain": [
       "'Olá Mundo!'"
      ]
     },
     "execution_count": 64,
     "metadata": {},
     "output_type": "execute_result"
    }
   ],
   "source": [
    "# Invoca o contrato para obter o nome armazenado\n",
    "contract.functions.name().call()"
   ]
  },
  {
   "cell_type": "code",
   "execution_count": 65,
   "metadata": {},
   "outputs": [
    {
     "data": {
      "text/plain": [
       "AttributeDict({'transactionHash': HexBytes('0x75b8a4fc10d2f448f717d9de53faf5732fb86d4a87707b8d86c7f79d032abd29'),\n",
       " 'transactionIndex': 0,\n",
       " 'blockNumber': 8,\n",
       " 'blockHash': HexBytes('0xb03be7bbe839cb0e03759da92da03c3d98c6e8b75e8ed93a0abb18fea69a7db4'),\n",
       " 'from': '0x82279a72C44A0C8930085b1Ad4AFb680Fc7c774B',\n",
       " 'to': '0xbdB4ad8084889236177B78092CF9BB23eD5Bd7a0',\n",
       " 'cumulativeGasUsed': 27421,\n",
       " 'gasUsed': 27421,\n",
       " 'contractAddress': None,\n",
       " 'logs': [],\n",
       " 'logsBloom': HexBytes('0x00000000000000000000000000000000000000000000000000000000000000000000000000000000000000000000000000000000000000000000000000000000000000000000000000000000000000000000000000000000000000000000000000000000000000000000000000000000000000000000000000000000000000000000000000000000000000000000000000000000000000000000000000000000000000000000000000000000000000000000000000000000000000000000000000000000000000000000000000000000000000000000000000000000000000000000000000000000000000000000000000000000000000000000000000000000'),\n",
       " 'status': 1,\n",
       " 'effectiveGasPrice': 1355097802,\n",
       " 'type': 2})"
      ]
     },
     "execution_count": 65,
     "metadata": {},
     "output_type": "execute_result"
    }
   ],
   "source": [
    "# Utiliza a função auxiliar para alterar o nome armazenado no contrato\n",
    "set_name('Olá Mundo!')"
   ]
  },
  {
   "cell_type": "code",
   "execution_count": 66,
   "metadata": {},
   "outputs": [
    {
     "data": {
      "text/plain": [
       "'Olá Mundo!'"
      ]
     },
     "execution_count": 66,
     "metadata": {},
     "output_type": "execute_result"
    }
   ],
   "source": [
    "# Invoca o contrato para obter o nome armazenado\n",
    "contract.functions.name().call()"
   ]
  }
 ],
 "metadata": {
  "kernelspec": {
   "display_name": "env",
   "language": "python",
   "name": "python3"
  },
  "language_info": {
   "codemirror_mode": {
    "name": "ipython",
    "version": 3
   },
   "file_extension": ".py",
   "mimetype": "text/x-python",
   "name": "python",
   "nbconvert_exporter": "python",
   "pygments_lexer": "ipython3",
   "version": "3.12.3"
  }
 },
 "nbformat": 4,
 "nbformat_minor": 2
}
