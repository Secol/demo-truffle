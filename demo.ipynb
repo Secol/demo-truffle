{
 "cells": [
  {
   "cell_type": "code",
   "execution_count": 1,
   "metadata": {},
   "outputs": [],
   "source": [
    "from web3 import Web3\n",
    "\n",
    "# Conectar ao provedor Ethereum\n",
    "web3 = Web3(Web3.HTTPProvider(\"http://127.0.0.1:7545\"))"
   ]
  },
  {
   "cell_type": "code",
   "execution_count": 2,
   "metadata": {},
   "outputs": [],
   "source": [
    "# Endereço da conta na rede (substitua pelo seu)\n",
    "account_address = \"0xC5BEe3BB63DeDfa65AbAeef69b766dD5D566C298\"\n",
    "# Chave privada da conta na rede (substitua pela sua)\n",
    "private_key = \"0xfd5e1e59283feadfdacf6633c14930861822b11ebd7d81958551f702195f8b11\"\n",
    "# Endereço do contrato Storage (substitua pelo seu)\n",
    "contract_address = \"0x4028e25891d8330610dCAe3d7D0BA285DAC1fe6d\"\n",
    "# ABI do contrato Storage\n",
    "contract_abi = [\n",
    "    {\n",
    "      \"inputs\": [],\n",
    "      \"name\": \"name\",\n",
    "      \"outputs\": [\n",
    "        {\n",
    "          \"internalType\": \"string\",\n",
    "          \"name\": \"\",\n",
    "          \"type\": \"string\"\n",
    "        }\n",
    "      ],\n",
    "      \"stateMutability\": \"view\",\n",
    "      \"type\": \"function\",\n",
    "      \"constant\": True\n",
    "    },\n",
    "    {\n",
    "      \"inputs\": [\n",
    "        {\n",
    "          \"internalType\": \"string\",\n",
    "          \"name\": \"_name\",\n",
    "          \"type\": \"string\"\n",
    "        }\n",
    "      ],\n",
    "      \"name\": \"setName\",\n",
    "      \"outputs\": [],\n",
    "      \"stateMutability\": \"nonpayable\",\n",
    "      \"type\": \"function\"\n",
    "    }\n",
    "]"
   ]
  },
  {
   "cell_type": "code",
   "execution_count": 3,
   "metadata": {},
   "outputs": [],
   "source": [
    "# Cria um objeto contract para interagir com o contrato Storage\n",
    "contract = web3.eth.contract(address=contract_address, abi=contract_abi)"
   ]
  },
  {
   "cell_type": "code",
   "execution_count": 4,
   "metadata": {},
   "outputs": [],
   "source": [
    "# Define uma função auxiliar para efetuar uma transação que altera o nome\n",
    "# armazenado no contrato Storage\n",
    "def set_name(new_name):\n",
    "    # Preparar a transação\n",
    "    txn = contract.functions.setName(new_name).build_transaction({\n",
    "        'chainId': web3.eth.chain_id,\n",
    "        'nonce': web3.eth.get_transaction_count(Web3.to_checksum_address(account_address)),\n",
    "    })\n",
    "\n",
    "    # Assina a transação\n",
    "    signed_txn = web3.eth.account.sign_transaction(txn, private_key=private_key)\n",
    "    # Envia a transação\n",
    "    tx_hash = web3.eth.send_raw_transaction(signed_txn.raw_transaction)\n",
    "\n",
    "    # Aguarda a confirmação da transação\n",
    "    tx_receipt = web3.eth.wait_for_transaction_receipt(tx_hash)\n",
    "\n",
    "    # Retorna o corpo de resposta da transação\n",
    "    return tx_receipt"
   ]
  },
  {
   "cell_type": "code",
   "execution_count": 5,
   "metadata": {},
   "outputs": [
    {
     "data": {
      "text/plain": [
       "''"
      ]
     },
     "execution_count": 5,
     "metadata": {},
     "output_type": "execute_result"
    }
   ],
   "source": [
    "# Invoca o contrato para obter o nome armazenado\n",
    "contract.functions.name().call()"
   ]
  },
  {
   "cell_type": "code",
   "execution_count": 10,
   "metadata": {},
   "outputs": [
    {
     "data": {
      "text/plain": [
       "AttributeDict({'transactionHash': HexBytes('0xdb900a6547af8cc2f56b47d34d33c81329be3c50b835121c775ea5aa894782dd'),\n",
       " 'transactionIndex': 0,\n",
       " 'blockNumber': 4,\n",
       " 'blockHash': HexBytes('0x000285c1aa6df1cecc6145f6b81db043085e100dc91e775a1f8264d2b026ab5a'),\n",
       " 'from': '0xC5BEe3BB63DeDfa65AbAeef69b766dD5D566C298',\n",
       " 'to': '0x4028e25891d8330610dCAe3d7D0BA285DAC1fe6d',\n",
       " 'cumulativeGasUsed': 30221,\n",
       " 'gasUsed': 30221,\n",
       " 'contractAddress': None,\n",
       " 'logs': [],\n",
       " 'logsBloom': HexBytes('0x00000000000000000000000000000000000000000000000000000000000000000000000000000000000000000000000000000000000000000000000000000000000000000000000000000000000000000000000000000000000000000000000000000000000000000000000000000000000000000000000000000000000000000000000000000000000000000000000000000000000000000000000000000000000000000000000000000000000000000000000000000000000000000000000000000000000000000000000000000000000000000000000000000000000000000000000000000000000000000000000000000000000000000000000000000000'),\n",
       " 'status': 1,\n",
       " 'effectiveGasPrice': 1595777175,\n",
       " 'type': 2})"
      ]
     },
     "execution_count": 10,
     "metadata": {},
     "output_type": "execute_result"
    }
   ],
   "source": [
    "# Utiliza a função auxiliar para alterar o nome armazenado no contrato\n",
    "set_name('Olá Mundo!')"
   ]
  },
  {
   "cell_type": "code",
   "execution_count": 11,
   "metadata": {},
   "outputs": [
    {
     "data": {
      "text/plain": [
       "'Olá Mundo!'"
      ]
     },
     "execution_count": 11,
     "metadata": {},
     "output_type": "execute_result"
    }
   ],
   "source": [
    "# Invoca o contrato para obter o nome armazenado\n",
    "contract.functions.name().call()"
   ]
  }
 ],
 "metadata": {
  "kernelspec": {
   "display_name": "env",
   "language": "python",
   "name": "python3"
  },
  "language_info": {
   "codemirror_mode": {
    "name": "ipython",
    "version": 3
   },
   "file_extension": ".py",
   "mimetype": "text/x-python",
   "name": "python",
   "nbconvert_exporter": "python",
   "pygments_lexer": "ipython3",
   "version": "3.12.3"
  }
 },
 "nbformat": 4,
 "nbformat_minor": 2
}
